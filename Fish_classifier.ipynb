{
 "cells": [
  {
   "cell_type": "code",
   "execution_count": null,
   "id": "8c4514c3",
   "metadata": {},
   "outputs": [],
   "source": [
    "# !pip install matplotlib\n",
    "import matplotlib.pyplot as plt\n",
    "import os\n",
    "import numpy as np\n",
    "!pip install tensorflow \n",
    "import tensorflow as tf\n",
    "from tensorflow import keras\n",
    "from keras.models import Sequential\n",
    "from tensorflow.keras import layers\n",
    "from keras.layers import Dense, Flatten, Conv2D, MaxPooling2D, Dropout\n",
    "# from tensorflow.keras.utils import to_categorical\n",
    "%matplotlib inline"
   ]
  },
  {
   "cell_type": "code",
   "execution_count": null,
   "id": "3ee505d8",
   "metadata": {},
   "outputs": [],
   "source": [
    "# Get Fish categories available in the root dir\n",
    "root_dir = \"Fish images\"\n",
    "train_image_dir = os.path.join(root_dir, \"train\")\n",
    "val_image_dir = os.path.join(root_dir, \"val\")\n",
    "\n",
    "labels = []\n",
    "for label in os.listdir(train_image_dir):\n",
    "    labels.append(label)\n",
    "    \n",
    "display(labels)"
   ]
  },
  {
   "cell_type": "markdown",
   "id": "63dc6039",
   "metadata": {},
   "source": [
    "### Loading the image files"
   ]
  },
  {
   "cell_type": "code",
   "execution_count": null,
   "id": "6c59a7eb",
   "metadata": {},
   "outputs": [],
   "source": [
    "# Loading the data\n",
    "!pip install opencv-python\n",
    "import cv2\n",
    "img_size = 150\n",
    "image_data = []\n",
    "\n",
    "def get_data(image_dir):\n",
    "    for label in labels:\n",
    "        image_path = os.path.join(image_dir, label)\n",
    "        class_num = labels.index(label)  # class num gives each fish category a label\n",
    "        for img in os.listdir(image_path):\n",
    "            img_arr = cv2.imread(os.path.join(image_path, img))\n",
    "    #             resize the images\n",
    "            resized_images = cv2.resize(img_arr, (img_size, img_size))\n",
    "            image_data.append([resized_images, class_num])\n",
    "    return np.array(image_data)\n"
   ]
  },
  {
   "cell_type": "code",
   "execution_count": null,
   "id": "c78d1629",
   "metadata": {},
   "outputs": [],
   "source": [
    "# from tqdm.notebook import tqdm_notebook as tqdm_nb\n",
    "# import time\n",
    "\n",
    "train = get_data(train_image_dir)\n",
    "val = get_data(val_image_dir)"
   ]
  },
  {
   "cell_type": "code",
   "execution_count": null,
   "id": "a8a0d279",
   "metadata": {},
   "outputs": [],
   "source": [
    "x_train = []\n",
    "y_train = []\n",
    "x_val = []\n",
    "y_val = []\n",
    "\n",
    "for feature, label in train:\n",
    "    x_train.append(feature)\n",
    "    y_train.append(label)\n",
    "\n",
    "for feature, label in val:\n",
    "    x_val.append(feature)\n",
    "    y_val.append(label)\n",
    "\n"
   ]
  },
  {
   "cell_type": "code",
   "execution_count": null,
   "id": "af22f2b1",
   "metadata": {},
   "outputs": [],
   "source": []
  },
  {
   "cell_type": "markdown",
   "id": "32983259",
   "metadata": {},
   "source": [
    "#### Normalizing the data"
   ]
  },
  {
   "cell_type": "code",
   "execution_count": null,
   "id": "1c9c50ee",
   "metadata": {},
   "outputs": [],
   "source": [
    "# Normalize the data\n",
    "x_train = np.array(x_train) / 255\n",
    "x_val = np.array(x_val) / 255\n",
    "\n",
    "x_train.reshape(-1, img_size, img_size, 1)\n",
    "y_train = np.array(y_train)\n",
    "\n",
    "x_val.reshape(-1, img_size, img_size, 1)\n",
    "y_val = np.array(y_val)"
   ]
  },
  {
   "cell_type": "code",
   "execution_count": null,
   "id": "ff2f229a",
   "metadata": {},
   "outputs": [],
   "source": [
    "from keras.preprocessing.image import ImageDataGenerator\n",
    "\n",
    "datagen = ImageDataGenerator(\n",
    "        featurewise_center=False,  # set input mean to 0 over the dataset\n",
    "        samplewise_center=False,\n",
    "        featurewise_std_normalization=False,\n",
    "        samplewise_std_normalization=False,\n",
    "        zca_whitening=False,\n",
    "        rotation_range = 30,\n",
    "        zoom_range = 0.2, \n",
    "        width_shift_range=0.1,  \n",
    "        height_shift_range=0.1, \n",
    "        horizontal_flip = True, \n",
    "        vertical_flip=False)\n",
    "\n",
    "\n",
    "datagen.fit(x_train)"
   ]
  },
  {
   "cell_type": "markdown",
   "id": "9d465a76",
   "metadata": {},
   "source": [
    "### Creating the model"
   ]
  },
  {
   "cell_type": "code",
   "execution_count": null,
   "id": "8fd17484",
   "metadata": {},
   "outputs": [],
   "source": [
    "model = Sequential()\n",
    "\n",
    "# Add first convo layer, maxpool and dropout\n",
    "model.add(Conv2D(filters = 16, kernel_size = (5,5), \n",
    "                 activation = 'relu', input_shape = (img_size, img_size,3)))\n",
    "model.add(MaxPooling2D(pool_size =(2,2)))\n",
    "model.add(Dropout(0.25))\n",
    "\n",
    "# Add a second convolution layer, maxpoling and dropout\n",
    "model.add(Conv2D(filters = 32, kernel_size = (5,5), activation = 'relu'))\n",
    "model.add(MaxPooling2D(pool_size =(2,2)))\n",
    "model.add(Dropout(0.25))\n",
    "\n",
    "# Add a third convolution layer, maxpoling and dropout\n",
    "model.add(Conv2D(filters = 64, kernel_size = (5,5), activation = 'relu'))\n",
    "model.add(MaxPooling2D(pool_size =(2,2)))\n",
    "model.add(Dropout(0.25))\n",
    "\n",
    "\n",
    "# Add a flattening layer\n",
    "model.add(Flatten())\n",
    "\n",
    "# add a layer with 5000 neurons and dropout\n",
    "model.add(Dense(5000, activation = 'relu'))\n",
    "model.add(Dropout(0.5))\n",
    "\n",
    "# add a layer with 1000 neurons\n",
    "model.add(Dense(1000, activation = 'relu'))\n",
    "model.add(Dropout(0.5))\n",
    "\n",
    "# add a layer with 500 neurons\n",
    "model.add(Dense(500, activation = 'relu'))\n",
    "\n",
    "model.add(Dropout(0.5))\n",
    "\n",
    "# add a layer with 250 neurons\n",
    "model.add(Dense(250, activation = 'relu'))\n",
    "\n",
    "# add a layer with 10 neurons\n",
    "model.add(Dense(10, activation = 'softmax'))\n",
    "\n",
    "model.summary()"
   ]
  },
  {
   "cell_type": "markdown",
   "id": "df481c07",
   "metadata": {},
   "source": [
    "#### Model compile "
   ]
  },
  {
   "cell_type": "code",
   "execution_count": null,
   "id": "9ac41d6d",
   "metadata": {},
   "outputs": [],
   "source": [
    "from tensorflow.keras.optimizers import Adam\n",
    "\n",
    "opt = Adam(learning_rate=0.000001)\n",
    "model.compile(loss = 'sparse_categorical_crossentropy',\n",
    "             optimizer = opt,\n",
    "             metrics = ['accuracy'])"
   ]
  },
  {
   "cell_type": "markdown",
   "id": "fed7b615",
   "metadata": {},
   "source": [
    "### Train the model"
   ]
  },
  {
   "cell_type": "code",
   "execution_count": 1,
   "id": "5d684c66",
   "metadata": {},
   "outputs": [
    {
     "ename": "NameError",
     "evalue": "name 'tf' is not defined",
     "output_type": "error",
     "traceback": [
      "\u001b[1;31m---------------------------------------------------------------------------\u001b[0m",
      "\u001b[1;31mNameError\u001b[0m                                 Traceback (most recent call last)",
      "Input \u001b[1;32mIn [1]\u001b[0m, in \u001b[0;36m<cell line: 4>\u001b[1;34m()\u001b[0m\n\u001b[0;32m      1\u001b[0m \u001b[38;5;66;03m# Implement callback function to stop training  when accuracy reaches 96%\u001b[39;00m\n\u001b[0;32m      2\u001b[0m ACCURACY_THRESHOLD \u001b[38;5;241m=\u001b[39m \u001b[38;5;241m0.96\u001b[39m\n\u001b[1;32m----> 4\u001b[0m \u001b[38;5;28;01mclass\u001b[39;00m \u001b[38;5;21;01mmyCallback\u001b[39;00m(\u001b[43mtf\u001b[49m\u001b[38;5;241m.\u001b[39mkeras\u001b[38;5;241m.\u001b[39mcallbacks\u001b[38;5;241m.\u001b[39mCallback):\n\u001b[0;32m      5\u001b[0m \t\u001b[38;5;28;01mdef\u001b[39;00m \u001b[38;5;21mon_epoch_end\u001b[39m(\u001b[38;5;28mself\u001b[39m, epoch, logs\u001b[38;5;241m=\u001b[39m{}):\n\u001b[0;32m      6\u001b[0m \t\t\u001b[38;5;28;01mif\u001b[39;00m(logs\u001b[38;5;241m.\u001b[39mget(\u001b[38;5;124m'\u001b[39m\u001b[38;5;124maccuracy\u001b[39m\u001b[38;5;124m'\u001b[39m) \u001b[38;5;241m>\u001b[39m ACCURACY_THRESHOLD):\n",
      "\u001b[1;31mNameError\u001b[0m: name 'tf' is not defined"
     ]
    }
   ],
   "source": [
    "# Implement callback function to stop training  when accuracy reaches 96%\n",
    "ACCURACY_THRESHOLD = 0.96\n",
    "\n",
    "class myCallback(tf.keras.callbacks.Callback):\n",
    "\tdef on_epoch_end(self, epoch, logs={}):\n",
    "\t\tif(logs.get('accuracy') > ACCURACY_THRESHOLD):\n",
    "\t\t\tprint(\"\\nReached %2.2f%% accuracy, so stopping training!!\" %(ACCURACY_THRESHOLD*100))\n",
    "\t\t\tself.model.stop_training = True\n",
    "\n",
    "# Instantiate a callback object\n",
    "callbacks = myCallback()\n",
    "\n",
    "hist = model.fit(x_train, y_train,\n",
    "                 shuffle = True,\n",
    "                 batch_size = 150,\n",
    "                 epochs = 100,\n",
    "                 validation_data = (x_val, y_val),\n",
    "                 callbacks=[callbacks]\n",
    "                )"
   ]
  },
  {
   "cell_type": "markdown",
   "id": "c55b2ba9",
   "metadata": {},
   "source": [
    "### Model evaluation"
   ]
  },
  {
   "cell_type": "code",
   "execution_count": null,
   "id": "03a5824e",
   "metadata": {},
   "outputs": [],
   "source": [
    "performance = model.evaluate(x_val, y_val)[1]*100\n",
    "performance"
   ]
  },
  {
   "cell_type": "code",
   "execution_count": null,
   "id": "5db68ed5",
   "metadata": {},
   "outputs": [],
   "source": [
    "plt.plot(hist.history['accuracy'])\n",
    "plt.plot(hist.history['val_accuracy'])\n",
    "plt.title('Model accuracy')\n",
    "plt.ylabel('Accuracy')\n",
    "plt.xlabel('Epoch')\n",
    "plt.legend(['Train','Val'], loc ='upper left')\n",
    "plt.show()"
   ]
  },
  {
   "cell_type": "code",
   "execution_count": null,
   "id": "9b4d091b",
   "metadata": {},
   "outputs": [],
   "source": [
    "plt.plot(hist.history['loss'])\n",
    "plt.plot(hist.history['val_loss'])\n",
    "plt.title('Model loss')\n",
    "plt.ylabel('Loss')\n",
    "plt.xlabel('Epoch')\n",
    "plt.legend(['Train','Val'], loc ='upper right')\n",
    "plt.show()"
   ]
  },
  {
   "cell_type": "markdown",
   "id": "27baade9",
   "metadata": {},
   "source": [
    "## Testing the model"
   ]
  },
  {
   "cell_type": "code",
   "execution_count": null,
   "id": "5757731c",
   "metadata": {},
   "outputs": [],
   "source": [
    "import os\n",
    "!pip install opencv-python\n",
    "\n",
    "import cv2\n",
    "# !pip install scikit-image\n",
    "from skimage.transform import resize\n",
    "\n",
    "foldername = \"./test_images/\" ###### folder for test images\n",
    "\n",
    "for img_count, filename in enumerate(os.listdir(foldername)):\n",
    "    img = plt.imread(os.path.join(foldername,filename))\n",
    "    resized_image = resize(img, (img_size, img_size, 3))\n",
    "    plt.imshow(img)\n",
    "    plt.show()\n",
    "      \n",
    "    predictions = model.predict(np.array([resized_image]))\n",
    "    print(predictions)\n",
    "    list_index = [0,1,2,3,4,5,6,7,8,9]\n",
    "    x = predictions\n",
    "\n",
    "  ################ display predictions as index from 0-9. ##############\n",
    "    for i in range(len(labels)):\n",
    "        for j in range(len(labels)):\n",
    "            if x[0][list_index[i]] > x[0][list_index[j]]:\n",
    "                #swap the numbers\n",
    "                temp = list_index[i]\n",
    "                list_index[i] = list_index[j]\n",
    "                list_index[j] = temp\n",
    "    display(list_index)\n",
    "    print(' '*50)\n",
    "    for i in range(len(labels)):\n",
    "        print(labels[list_index[i]], ':', round((predictions[0][list_index[i]] * 100),2), '%')\n",
    "    print(\"*\" * 100)\n"
   ]
  },
  {
   "cell_type": "code",
   "execution_count": null,
   "id": "71001206",
   "metadata": {},
   "outputs": [],
   "source": []
  }
 ],
 "metadata": {
  "kernelspec": {
   "display_name": "Python 3 (ipykernel)",
   "language": "python",
   "name": "python3"
  },
  "language_info": {
   "codemirror_mode": {
    "name": "ipython",
    "version": 3
   },
   "file_extension": ".py",
   "mimetype": "text/x-python",
   "name": "python",
   "nbconvert_exporter": "python",
   "pygments_lexer": "ipython3",
   "version": "3.9.12"
  }
 },
 "nbformat": 4,
 "nbformat_minor": 5
}
