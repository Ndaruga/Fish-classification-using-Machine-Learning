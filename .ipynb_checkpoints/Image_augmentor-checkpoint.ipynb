{
 "cells": [
  {
   "cell_type": "code",
   "execution_count": null,
   "id": "654ac0bc",
   "metadata": {
    "scrolled": true
   },
   "outputs": [],
   "source": [
    "!pip install Augmentor\n",
    "!pip install Augmentor --upgrade\n",
    "print(\"Upgrade complete\\n\")\n",
    "# print(Augmentor.__version__)"
   ]
  },
  {
   "cell_type": "code",
   "execution_count": null,
   "id": "f14b1639",
   "metadata": {
    "scrolled": true
   },
   "outputs": [],
   "source": [
    "import Augmentor\n",
    "import os\n",
    "\n",
    "root_directory = \"Fish images\" # Root Directory containing sub-directories of diffrent species \n",
    "items = os.listdir(root_directory)\n",
    "for item in items:\n",
    "    item = os.path.join(root_directory, item)\n",
    "    p = Augmentor.Pipeline(item, output_directory=\"\")\n",
    "    print(\"\\nInitializaton comlete\")\n",
    "    \n",
    "    p.rotate(probability = 0.8, max_left_rotation = 10, max_right_rotation = 10)\n",
    "    p.zoom(probability = 0.5, min_factor = 1.1, max_factor = 1.5)\n",
    "    p.skew_tilt(probability = 0.2)\n",
    "#     p.random_distortion(probability = 0.2, grid_width = 16, grid_height = 16, magnitude = 8)\n",
    "    p.shear(probability = 0.2, max_shear_left = 20, max_shear_right = 20)\n",
    "    p.flip_random(probability = 0.8)\n",
    "    \n",
    "    print(\"Augmenting image samples\")\n",
    "\n",
    "#     ###### Change to prefered number of image samples below\n",
    "    p.sample(800) \n",
    "    \n"
   ]
  },
  {
   "cell_type": "code",
   "execution_count": null,
   "id": "5991859e",
   "metadata": {},
   "outputs": [],
   "source": [
    "import splitfolders\n",
    "splitfolders.ratio(root_dir, output=root_dir, \n",
    "                   seed=1337, group_prefix=None, \n",
    "                   ratio=(.8, 0.2), move = True) "
   ]
  }
 ],
 "metadata": {
  "kernelspec": {
   "display_name": "Python 3 (ipykernel)",
   "language": "python",
   "name": "python3"
  },
  "language_info": {
   "codemirror_mode": {
    "name": "ipython",
    "version": 3
   },
   "file_extension": ".py",
   "mimetype": "text/x-python",
   "name": "python",
   "nbconvert_exporter": "python",
   "pygments_lexer": "ipython3",
   "version": "3.8.12"
  }
 },
 "nbformat": 4,
 "nbformat_minor": 5
}
