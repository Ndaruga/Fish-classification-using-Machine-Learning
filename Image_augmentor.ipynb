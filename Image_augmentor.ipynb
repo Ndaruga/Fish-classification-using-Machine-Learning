{
 "cells": [
  {
   "cell_type": "markdown",
   "id": "8ce9ab16",
   "metadata": {},
   "source": [
    "### Extracting the compressed file"
   ]
  },
  {
   "cell_type": "code",
   "execution_count": 1,
   "id": "6a7a0e03",
   "metadata": {},
   "outputs": [
    {
     "name": "stdout",
     "output_type": "stream",
     "text": [
      "Requirement already satisfied: patool in c:\\users\\user\\anaconda3\\lib\\site-packages (1.12)\n",
      "\n",
      "Files Already Extracted\n"
     ]
    }
   ],
   "source": [
    "!pip install patool\n",
    "import patoolib\n",
    "import os\n",
    "if (os.path.isdir(\"Fish images\")) == False:\n",
    "    patoolib.extract_archive('./Fish images.rar')\n",
    "    print(\"\\nExtract complete\")\n",
    "else:\n",
    "    print(\"\\nFiles Already Extracted\")"
   ]
  },
  {
   "cell_type": "code",
   "execution_count": 2,
   "id": "654ac0bc",
   "metadata": {
    "scrolled": true
   },
   "outputs": [
    {
     "name": "stdout",
     "output_type": "stream",
     "text": [
      "Requirement already satisfied: Augmentor in c:\\users\\user\\anaconda3\\lib\\site-packages (0.2.10)\n",
      "Requirement already satisfied: numpy>=1.11.0 in c:\\users\\user\\anaconda3\\lib\\site-packages (from Augmentor) (1.21.5)\n",
      "Requirement already satisfied: future>=0.16.0 in c:\\users\\user\\anaconda3\\lib\\site-packages (from Augmentor) (0.18.2)\n",
      "Requirement already satisfied: tqdm>=4.9.0 in c:\\users\\user\\anaconda3\\lib\\site-packages (from Augmentor) (4.64.0)\n",
      "Requirement already satisfied: Pillow>=5.2.0 in c:\\users\\user\\anaconda3\\lib\\site-packages (from Augmentor) (9.0.1)\n",
      "Requirement already satisfied: colorama in c:\\users\\user\\anaconda3\\lib\\site-packages (from tqdm>=4.9.0->Augmentor) (0.4.4)\n",
      "Requirement already satisfied: Augmentor in c:\\users\\user\\anaconda3\\lib\\site-packages (0.2.10)\n",
      "Requirement already satisfied: future>=0.16.0 in c:\\users\\user\\anaconda3\\lib\\site-packages (from Augmentor) (0.18.2)\n",
      "Requirement already satisfied: Pillow>=5.2.0 in c:\\users\\user\\anaconda3\\lib\\site-packages (from Augmentor) (9.0.1)\n",
      "Requirement already satisfied: numpy>=1.11.0 in c:\\users\\user\\anaconda3\\lib\\site-packages (from Augmentor) (1.21.5)\n",
      "Requirement already satisfied: tqdm>=4.9.0 in c:\\users\\user\\anaconda3\\lib\\site-packages (from Augmentor) (4.64.0)\n",
      "Requirement already satisfied: colorama in c:\\users\\user\\anaconda3\\lib\\site-packages (from tqdm>=4.9.0->Augmentor) (0.4.4)\n",
      "Upgrade complete\n",
      "\n"
     ]
    }
   ],
   "source": [
    "!pip install Augmentor\n",
    "!pip install Augmentor --upgrade\n",
    "print(\"Upgrade complete\\n\")\n",
    "# print(Augmentor.__version__)"
   ]
  },
  {
   "cell_type": "code",
   "execution_count": 3,
   "id": "f14b1639",
   "metadata": {
    "scrolled": true
   },
   "outputs": [
    {
     "name": "stdout",
     "output_type": "stream",
     "text": [
      "Initialised with 83 image(s) found.\n",
      "Output directory set to Fish images\\Halichoeres scapularis\\.\n",
      "Initializaton comlete\n",
      "Augmenting image samples\n"
     ]
    },
    {
     "name": "stderr",
     "output_type": "stream",
     "text": [
      "Processing <PIL.Image.Image image mode=RGB size=2976x3968 at 0x2146B255970>: 100%|█| 2000/2000 [34:21<00:00,  1.03s/ Sa\n"
     ]
    },
    {
     "name": "stdout",
     "output_type": "stream",
     "text": [
      "Initialised with 76 image(s) found.\n",
      "Output directory set to Fish images\\Lethrinius harak\\.\n",
      "Initializaton comlete\n",
      "Augmenting image samples\n"
     ]
    },
    {
     "name": "stderr",
     "output_type": "stream",
     "text": [
      "Processing <PIL.Image.Image image mode=RGB size=3088x3088 at 0x2146B25B430>: 100%|█| 2000/2000 [28:58<00:00,  1.15 Samp\n"
     ]
    },
    {
     "name": "stdout",
     "output_type": "stream",
     "text": [
      "Initialised with 92 image(s) found.\n",
      "Output directory set to Fish images\\Neopomacentrus demoiselle\\.\n",
      "Initializaton comlete\n",
      "Augmenting image samples\n"
     ]
    },
    {
     "name": "stderr",
     "output_type": "stream",
     "text": [
      "Processing <PIL.Image.Image image mode=RGB size=3968x2976 at 0x2146B1A0820>: 100%|█| 2000/2000 [34:46<00:00,  1.04s/ Sa\n"
     ]
    }
   ],
   "source": [
    "import Augmentor\n",
    "import os\n",
    "\n",
    "root_directory = \"Fish images\" # Root Directory containing sub-directories of diffrent species \n",
    "items = os.listdir(root_directory)\n",
    "for item in items:\n",
    "    item = os.path.join(root_directory, item)\n",
    "    p = Augmentor.Pipeline(item, output_directory=\"\")\n",
    "    print(\"\\nInitializaton comlete\")\n",
    "    \n",
    "    p.rotate(probability = 0.8, max_left_rotation = 10, max_right_rotation = 10)\n",
    "    p.zoom(probability = 0.5, min_factor = 1.1, max_factor = 1.5)\n",
    "    p.skew_tilt(probability = 0.2)\n",
    "#     p.random_distortion(probability = 0.2, grid_width = 16, grid_height = 16, magnitude = 8)\n",
    "    p.shear(probability = 0.2, max_shear_left = 20, max_shear_right = 20)\n",
    "    p.flip_random(probability = 0.8)\n",
    "    \n",
    "    print(\"Augmenting image samples\")\n",
    "\n",
    "#     ###### Change to prefered number of image samples below\n",
    "    p.sample(2000) \n",
    "    \n"
   ]
  },
  {
   "cell_type": "code",
   "execution_count": 4,
   "id": "5991859e",
   "metadata": {},
   "outputs": [
    {
     "name": "stdout",
     "output_type": "stream",
     "text": [
      "Collecting split-folders\n",
      "  Using cached split_folders-0.5.1-py3-none-any.whl (8.4 kB)\n",
      "Installing collected packages: split-folders\n",
      "Successfully installed split-folders-0.5.1\n"
     ]
    },
    {
     "name": "stderr",
     "output_type": "stream",
     "text": [
      "Copying files: 6251 files [00:07, 874.11 files/s] "
     ]
    },
    {
     "name": "stdout",
     "output_type": "stream",
     "text": [
      "Splitting Unsuccessfull\n"
     ]
    },
    {
     "name": "stderr",
     "output_type": "stream",
     "text": [
      "\n"
     ]
    }
   ],
   "source": [
    "!pip install split-folders\n",
    "import splitfolders\n",
    "if (splitfolders.ratio(root_directory, output=root_directory, \n",
    "                   seed=1337, group_prefix=None, \n",
    "                   ratio=(.8, 0.2), move = True)) == True:\n",
    "    \n",
    "    print('Splitting complete.\\nFolder structure created successfully')\n",
    "else:\n",
    "    print('Splitting Unsuccessfull')"
   ]
  },
  {
   "cell_type": "code",
   "execution_count": 5,
   "id": "64b904ad",
   "metadata": {},
   "outputs": [
    {
     "name": "stdout",
     "output_type": "stream",
     "text": [
      "\n"
     ]
    }
   ],
   "source": [
    "print()"
   ]
  },
  {
   "cell_type": "code",
   "execution_count": 6,
   "id": "6c12ea79",
   "metadata": {},
   "outputs": [
    {
     "ename": "TypeError",
     "evalue": "rmdir() missing required argument 'path' (pos 1)",
     "output_type": "error",
     "traceback": [
      "\u001b[1;31m---------------------------------------------------------------------------\u001b[0m",
      "\u001b[1;31mTypeError\u001b[0m                                 Traceback (most recent call last)",
      "Input \u001b[1;32mIn [6]\u001b[0m, in \u001b[0;36m<cell line: 1>\u001b[1;34m()\u001b[0m\n\u001b[0;32m      1\u001b[0m \u001b[38;5;28;01mwhile\u001b[39;00m (os\u001b[38;5;241m.\u001b[39mlistdir(root_directory) \u001b[38;5;241m!=\u001b[39m \u001b[38;5;124m'\u001b[39m\u001b[38;5;124mtrain\u001b[39m\u001b[38;5;124m'\u001b[39m,\u001b[38;5;124m'\u001b[39m\u001b[38;5;124mval\u001b[39m\u001b[38;5;124m'\u001b[39m):\n\u001b[1;32m----> 2\u001b[0m         \u001b[43mos\u001b[49m\u001b[38;5;241;43m.\u001b[39;49m\u001b[43mrmdir\u001b[49m\u001b[43m(\u001b[49m\u001b[43m)\u001b[49m\n",
      "\u001b[1;31mTypeError\u001b[0m: rmdir() missing required argument 'path' (pos 1)"
     ]
    }
   ],
   "source": [
    "while (os.listdir(root_directory) != 'train','val'):\n",
    "        os.rmdir()"
   ]
  },
  {
   "cell_type": "code",
   "execution_count": null,
   "id": "441d0ee2",
   "metadata": {},
   "outputs": [],
   "source": []
  }
 ],
 "metadata": {
  "kernelspec": {
   "display_name": "Python 3 (ipykernel)",
   "language": "python",
   "name": "python3"
  },
  "language_info": {
   "codemirror_mode": {
    "name": "ipython",
    "version": 3
   },
   "file_extension": ".py",
   "mimetype": "text/x-python",
   "name": "python",
   "nbconvert_exporter": "python",
   "pygments_lexer": "ipython3",
   "version": "3.9.12"
  }
 },
 "nbformat": 4,
 "nbformat_minor": 5
}
